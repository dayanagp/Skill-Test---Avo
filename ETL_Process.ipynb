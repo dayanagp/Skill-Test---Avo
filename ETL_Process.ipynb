{
 "cells": [
  {
   "cell_type": "markdown",
   "metadata": {},
   "source": [
    "## Libraries"
   ]
  },
  {
   "cell_type": "code",
   "execution_count": 2,
   "metadata": {},
   "outputs": [],
   "source": [
    "import json\n",
    "import gspread\n",
    "from oauth2client.service_account import ServiceAccountCredentials\n",
    "\n",
    "import pandas as pd\n",
    "import Levenshtein\n",
    "\n",
    "import warnings\n",
    "warnings.filterwarnings('ignore')"
   ]
  },
  {
   "cell_type": "markdown",
   "metadata": {},
   "source": [
    "## Extract Data"
   ]
  },
  {
   "cell_type": "code",
   "execution_count": 3,
   "metadata": {},
   "outputs": [],
   "source": [
    "df_shopee = pd.read_excel('./DATA/Avoskin_Shopee.xlsx')\n",
    "df_tokopedia = pd.read_excel('./DATA/Avoskin_Tokopedia.xlsx')\n",
    "df_tiktok = pd.read_excel('./DATA/Avoskin_tiktok.xlsx')\n",
    "df_website = pd.read_excel('./DATA/Avoskin_website.xlsx')\n",
    "df_zalora = pd.read_excel('./DATA/Avoskin_Zalora.xlsx')\n",
    "df_retail = pd.read_excel('./DATA/Avoskin_retail.xlsx')\n",
    "df_gt = pd.read_excel('./DATA/Avoskin_GT.xlsx')"
   ]
  },
  {
   "cell_type": "markdown",
   "metadata": {},
   "source": [
    "## Transform Data"
   ]
  },
  {
   "cell_type": "markdown",
   "metadata": {},
   "source": [
    "- Data Shopee"
   ]
  },
  {
   "cell_type": "code",
   "execution_count": 4,
   "metadata": {},
   "outputs": [
    {
     "name": "stdout",
     "output_type": "stream",
     "text": [
      "<class 'pandas.core.frame.DataFrame'>\n",
      "RangeIndex: 500 entries, 0 to 499\n",
      "Data columns (total 42 columns):\n",
      " #   Column                                                        Non-Null Count  Dtype  \n",
      "---  ------                                                        --------------  -----  \n",
      " 0   No. Pesanan                                                   500 non-null    object \n",
      " 1   Status Pesanan                                                500 non-null    object \n",
      " 2   No. Resi                                                      500 non-null    int64  \n",
      " 3   Opsi Pengiriman                                               500 non-null    object \n",
      " 4   Antar ke counter/ pick-up                                     500 non-null    object \n",
      " 5   Pesanan Harus Dikirimkan Sebelum (Menghindari keterlambatan)  500 non-null    object \n",
      " 6   Waktu Pengiriman Diatur                                       499 non-null    object \n",
      " 7   Waktu Pesanan Dibuat                                          500 non-null    object \n",
      " 8   Waktu Pembayaran Dilakukan                                    500 non-null    object \n",
      " 9   SKU Induk                                                     500 non-null    object \n",
      " 10  Nama Produk                                                   500 non-null    object \n",
      " 11  Nama Variasi                                                  6 non-null      object \n",
      " 12  Harga Awal                                                    500 non-null    int64  \n",
      " 13  Jumlah                                                        500 non-null    int64  \n",
      " 14  Total Diskon                                                  500 non-null    int64  \n",
      " 15  Diskon Dari Penjual                                           500 non-null    int64  \n",
      " 16  Diskon Dari Shopee                                            500 non-null    int64  \n",
      " 17  Berat Produk                                                  500 non-null    object \n",
      " 18  Jumlah Produk di Pesan                                        500 non-null    int64  \n",
      " 19  Total Berat                                                   500 non-null    object \n",
      " 20  Voucher Ditanggung Penjual                                    500 non-null    int64  \n",
      " 21  Cashback Koin                                                 500 non-null    int64  \n",
      " 22  Voucher Ditanggung Shopee                                     500 non-null    int64  \n",
      " 23  Paket Diskon                                                  500 non-null    object \n",
      " 24  Paket Diskon (Diskon dari Shopee)                             500 non-null    int64  \n",
      " 25  Paket Diskon (Diskon dari Penjual)                            500 non-null    int64  \n",
      " 26  Potongan Koin Shopee                                          500 non-null    int64  \n",
      " 27  Diskon Kartu Kredit                                           500 non-null    float64\n",
      " 28  Ongkos Kirim Dibayar oleh Pembeli                             500 non-null    int64  \n",
      " 29  Estimasi Potongan Biaya Pengiriman                            500 non-null    int64  \n",
      " 30  Ongkos Kirim Pengembalian Barang                              500 non-null    int64  \n",
      " 31  Total Pembayaran                                              500 non-null    float64\n",
      " 32  Perkiraan Ongkos Kirim                                        500 non-null    int64  \n",
      " 33  Catatan dari Pembeli                                          10 non-null     object \n",
      " 34  Catatan                                                       0 non-null      float64\n",
      " 35  Username (Pembeli)                                            500 non-null    object \n",
      " 36  Nama Penerima                                                 500 non-null    object \n",
      " 37  No. Telepon                                                   500 non-null    object \n",
      " 38  Alamat Pengiriman                                             500 non-null    object \n",
      " 39  Kota/Kabupaten                                                500 non-null    object \n",
      " 40  Provinsi                                                      500 non-null    object \n",
      " 41  Waktu Pesanan Selesai                                         500 non-null    object \n",
      "dtypes: float64(3), int64(17), object(22)\n",
      "memory usage: 164.2+ KB\n"
     ]
    }
   ],
   "source": [
    "df_shopee.info()"
   ]
  },
  {
   "cell_type": "code",
   "execution_count": 5,
   "metadata": {},
   "outputs": [],
   "source": [
    "# Ambil kolom yang dibutuhkan dan tambahkan kolom baru\n",
    "df_shopee_transformed = df_shopee.copy()\n",
    "\n",
    "# Tambah kolom baru dan kosongi isinya\n",
    "df_shopee_transformed['mapping_status'] = ''\n",
    "df_shopee_transformed['mapping_product'] = ''\n",
    "df_shopee_transformed['kategori'] = ''\n",
    "df_shopee_transformed['total_harga_sebelum_diskon'] = df_shopee_transformed['Harga Awal'] * df_shopee_transformed['Jumlah']\n",
    "df_shopee_transformed['total_harga_setelah_diskon'] = (\n",
    "    (df_shopee_transformed['Harga Awal'] - df_shopee_transformed['Total Diskon'] \n",
    "    - df_shopee_transformed['Diskon Dari Penjual'] \n",
    "    - df_shopee_transformed['Diskon Dari Shopee']) * df_shopee_transformed['Jumlah']\n",
    ")\n",
    "\n",
    "# Kolom Username (Pembeli) diisi dengan 'Nama Penerima' + 'No. Telepon' jika null\n",
    "df_shopee_transformed['mapping_pembeli'] = df_shopee_transformed['Username (Pembeli)']\n",
    "df_shopee_transformed['mapping_pembeli'].fillna(df_shopee_transformed['Nama Penerima'] + ' ' + df_shopee_transformed['No. Telepon'], inplace=True)\n",
    "\n",
    "# Tambah kolom dengan nilai tetap\n",
    "df_shopee_transformed['channel'] = 'B2C'\n",
    "df_shopee_transformed['brand'] = 'Avoskin'\n",
    "df_shopee_transformed['store'] = 'Shopee'\n",
    "\n",
    "# Atur urutan kolom seperti yang diminta\n",
    "df_shopee_transformed = df_shopee_transformed.rename(columns={\n",
    "    'No. Pesanan': 'no_pesanan',\n",
    "    'Waktu Pesanan Dibuat': 'tanggal_pesanan_dibuat',\n",
    "    'Status Pesanan': 'status',\n",
    "    'SKU Induk': 'sku_induk',\n",
    "    'Nama Produk': 'nama_produk',\n",
    "    'Nama Variasi': 'nama_variasi',\n",
    "    'Harga Awal': 'harga_awal',\n",
    "    'Jumlah': 'jumlah',\n",
    "    'Kota/Kabupaten': 'mapping_kota',\n",
    "    'Provinsi': 'mapping_provinsi'\n",
    "})[[ \n",
    "    'no_pesanan',\n",
    "    'tanggal_pesanan_dibuat',\n",
    "    'status',\n",
    "    'mapping_status',\n",
    "    'sku_induk',\n",
    "    'nama_produk',\n",
    "    'mapping_product',\n",
    "    'nama_variasi',\n",
    "    'kategori',\n",
    "    'harga_awal',\n",
    "    'jumlah',\n",
    "    'total_harga_sebelum_diskon',\n",
    "    'total_harga_setelah_diskon',\n",
    "    'mapping_pembeli',\n",
    "    'mapping_kota',\n",
    "    'mapping_provinsi',\n",
    "    'channel',\n",
    "    'brand',\n",
    "    'store'\n",
    "]]\n"
   ]
  },
  {
   "cell_type": "code",
   "execution_count": 6,
   "metadata": {},
   "outputs": [
    {
     "data": {
      "text/plain": [
       "0    2021-12-01\n",
       "1    2021-12-01\n",
       "2    2021-12-01\n",
       "3    2021-12-01\n",
       "4    2021-12-01\n",
       "Name: tanggal_pesanan_dibuat, dtype: object"
      ]
     },
     "execution_count": 6,
     "metadata": {},
     "output_type": "execute_result"
    }
   ],
   "source": [
    "# Mengonversi kolom 'tanggal_pesanan_dibuat' menjadi tipe data datetime (format YYYY-MM-DD)\n",
    "df_shopee_transformed['tanggal_pesanan_dibuat'] = pd.to_datetime(df_shopee_transformed['tanggal_pesanan_dibuat']).dt.date\n",
    "df_shopee_transformed['tanggal_pesanan_dibuat'].head()"
   ]
  },
  {
   "cell_type": "code",
   "execution_count": 7,
   "metadata": {},
   "outputs": [
    {
     "name": "stdout",
     "output_type": "stream",
     "text": [
      "<class 'pandas.core.frame.DataFrame'>\n",
      "RangeIndex: 500 entries, 0 to 499\n",
      "Data columns (total 19 columns):\n",
      " #   Column                      Non-Null Count  Dtype \n",
      "---  ------                      --------------  ----- \n",
      " 0   no_pesanan                  500 non-null    object\n",
      " 1   tanggal_pesanan_dibuat      500 non-null    object\n",
      " 2   status                      500 non-null    object\n",
      " 3   mapping_status              500 non-null    object\n",
      " 4   sku_induk                   500 non-null    object\n",
      " 5   nama_produk                 500 non-null    object\n",
      " 6   mapping_product             500 non-null    object\n",
      " 7   nama_variasi                6 non-null      object\n",
      " 8   kategori                    500 non-null    object\n",
      " 9   harga_awal                  500 non-null    int64 \n",
      " 10  jumlah                      500 non-null    int64 \n",
      " 11  total_harga_sebelum_diskon  500 non-null    int64 \n",
      " 12  total_harga_setelah_diskon  500 non-null    int64 \n",
      " 13  mapping_pembeli             500 non-null    object\n",
      " 14  mapping_kota                500 non-null    object\n",
      " 15  mapping_provinsi            500 non-null    object\n",
      " 16  channel                     500 non-null    object\n",
      " 17  brand                       500 non-null    object\n",
      " 18  store                       500 non-null    object\n",
      "dtypes: int64(4), object(15)\n",
      "memory usage: 74.3+ KB\n"
     ]
    }
   ],
   "source": [
    "df_shopee_transformed.info()"
   ]
  },
  {
   "cell_type": "markdown",
   "metadata": {},
   "source": [
    "- Tokopedia"
   ]
  },
  {
   "cell_type": "code",
   "execution_count": 8,
   "metadata": {},
   "outputs": [
    {
     "name": "stdout",
     "output_type": "stream",
     "text": [
      "<class 'pandas.core.frame.DataFrame'>\n",
      "RangeIndex: 500 entries, 0 to 499\n",
      "Data columns (total 41 columns):\n",
      " #   Column                                    Non-Null Count  Dtype  \n",
      "---  ------                                    --------------  -----  \n",
      " 0   Nomor                                     417 non-null    float64\n",
      " 1   Nomor Invoice                             500 non-null    int64  \n",
      " 2   Tanggal Pembayaran                        500 non-null    object \n",
      " 3   Status Terakhir                           500 non-null    object \n",
      " 4   Tanggal Pesanan Selesai                   497 non-null    object \n",
      " 5   Waktu Pesanan Selesai                     497 non-null    object \n",
      " 6   Tanggal Pesanan Dibatalkan                3 non-null      object \n",
      " 7   Waktu Pesanan Dibatalkan                  3 non-null      object \n",
      " 8   Nama Produk                               500 non-null    object \n",
      " 9   Tipe Produk                               500 non-null    object \n",
      " 10  Nomor SKU                                 500 non-null    int64  \n",
      " 11  Catatan Produk Pembeli                    3 non-null      object \n",
      " 12  Catatan Produk Penjual                    0 non-null      float64\n",
      " 13  Jumlah Produk Dibeli                      500 non-null    int64  \n",
      " 14  Harga Awal (IDR)                          500 non-null    int64  \n",
      " 15  Diskon Produk (IDR)                       500 non-null    int64  \n",
      " 16  Harga Jual (IDR)                          500 non-null    int64  \n",
      " 17  Jumlah Subsidi Tokopedia (IDR)            500 non-null    int64  \n",
      " 18  Nilai Voucher Toko Terpakai (IDR)         500 non-null    int64  \n",
      " 19  Jenis Voucher Toko Terpakai               35 non-null     object \n",
      " 20  Kode Voucher Toko Yang Digunakan          35 non-null     object \n",
      " 21  Biaya Pengiriman Tunai (IDR)              500 non-null    object \n",
      " 22  Biaya Asuransi Pengiriman (IDR)           500 non-null    object \n",
      " 23  Total Biaya Pengiriman (IDR)              500 non-null    object \n",
      " 24  Total Penjualan (IDR)                     500 non-null    int64  \n",
      " 25  Nama Pembeli                              500 non-null    object \n",
      " 26  No Telp Pembeli                           500 non-null    object \n",
      " 27  Nama Penerima                             500 non-null    object \n",
      " 28  No Telp Penerima                          500 non-null    object \n",
      " 29  Alamat Pengiriman                         500 non-null    object \n",
      " 30  Kota                                      500 non-null    object \n",
      " 31  Provinsi                                  500 non-null    object \n",
      " 32  Nama Kurir                                500 non-null    object \n",
      " 33  Tipe Pengiriman (regular, same day, etc)  500 non-null    object \n",
      " 34  No Resi / Kode Booking                    497 non-null    object \n",
      " 35  Tanggal Pengiriman Barang                 497 non-null    object \n",
      " 36  Waktu Pengiriman Barang                   497 non-null    object \n",
      " 37  Gudang Pengiriman                         500 non-null    object \n",
      " 38  Nama Campaign                             325 non-null    object \n",
      " 39  Bebas Ongkir                              500 non-null    object \n",
      " 40  COD                                       500 non-null    object \n",
      "dtypes: float64(2), int64(9), object(30)\n",
      "memory usage: 160.3+ KB\n"
     ]
    }
   ],
   "source": [
    "df_tokopedia.info()"
   ]
  },
  {
   "cell_type": "code",
   "execution_count": 9,
   "metadata": {},
   "outputs": [],
   "source": [
    "# Ambil kolom yang dibutuhkan dan tambahkan kolom baru\n",
    "df_tokopedia_transformed = df_tokopedia.copy()\n",
    "\n",
    "# Tambah kolom baru dan kosongi isinya\n",
    "df_tokopedia_transformed['mapping_status'] = ''\n",
    "df_tokopedia_transformed['mapping_product'] = ''\n",
    "df_tokopedia_transformed['kategori'] = ''\n",
    "df_tokopedia_transformed['nama_variasi'] = ''\n",
    "\n",
    "# Hitung total harga sebelum dan setelah diskon\n",
    "df_tokopedia_transformed['total_harga_sebelum_diskon'] = df_tokopedia_transformed['Harga Awal (IDR)'] * df_tokopedia_transformed['Jumlah Produk Dibeli']\n",
    "df_tokopedia_transformed['total_harga_setelah_diskon'] = (\n",
    "    df_tokopedia_transformed['Harga Jual (IDR)'] - df_tokopedia_transformed['Jumlah Produk Dibeli']\n",
    ")\n",
    "\n",
    "# Kolom Username (Pembeli) diisi dengan 'Nama Penerima' + 'No. Telepon' jika null\n",
    "df_tokopedia_transformed['mapping_pembeli'] = df_tokopedia_transformed['Nama Pembeli']\n",
    "df_tokopedia_transformed['mapping_pembeli'].fillna(df_tokopedia_transformed['Nama Penerima'] + ' ' + df_tokopedia_transformed['No Telp Pembeli'], inplace=True)\n",
    "\n",
    "# Tambah kolom dengan nilai tetap\n",
    "df_tokopedia_transformed['channel'] = 'B2C'\n",
    "df_tokopedia_transformed['brand'] = 'Avoskin'\n",
    "df_tokopedia_transformed['store'] = 'Tokopedia'\n",
    "\n",
    "# Mengubah nama kolom sesuai dengan yang diminta\n",
    "df_tokopedia_transformed = df_tokopedia_transformed.rename(columns={\n",
    "    'Nomor Invoice': 'no_pesanan',\n",
    "    'Tanggal Pembayaran': 'tanggal_pesanan_dibuat',\n",
    "    'Status Terakhir': 'status',\n",
    "    'Nomor SKU': 'sku_induk',\n",
    "    'Nama Produk': 'nama_produk',\n",
    "    'nama_variasi': 'nama_variasi',\n",
    "    'Harga Awal (IDR)': 'harga_awal',\n",
    "    'Jumlah Produk Dibeli': 'jumlah',\n",
    "    'Kota': 'mapping_kota',\n",
    "    'Provinsi': 'mapping_provinsi'\n",
    "})\n",
    "\n",
    "# Mengatur urutan kolom sesuai dengan yang diminta\n",
    "df_tokopedia_transformed = df_tokopedia_transformed[[\n",
    "    'no_pesanan', \n",
    "    'tanggal_pesanan_dibuat', \n",
    "    'status', \n",
    "    'mapping_status', \n",
    "    'sku_induk', \n",
    "    'nama_produk', \n",
    "    'mapping_product', \n",
    "    'nama_variasi', \n",
    "    'kategori', \n",
    "    'harga_awal', \n",
    "    'jumlah', \n",
    "    'total_harga_sebelum_diskon', \n",
    "    'total_harga_setelah_diskon', \n",
    "    'mapping_pembeli', \n",
    "    'mapping_kota', \n",
    "    'mapping_provinsi', \n",
    "    'channel', \n",
    "    'brand', \n",
    "    'store'\n",
    "]]\n"
   ]
  },
  {
   "cell_type": "code",
   "execution_count": 10,
   "metadata": {},
   "outputs": [
    {
     "data": {
      "text/plain": [
       "0    2021-01-12\n",
       "1    2021-01-12\n",
       "2    2021-01-12\n",
       "3    2021-01-12\n",
       "4    2021-01-12\n",
       "Name: tanggal_pesanan_dibuat, dtype: object"
      ]
     },
     "execution_count": 10,
     "metadata": {},
     "output_type": "execute_result"
    }
   ],
   "source": [
    "# Mengonversi kolom 'tanggal_pesanan_dibuat' menjadi tipe data datetime (format YYYY-MM-DD)\n",
    "df_tokopedia_transformed['tanggal_pesanan_dibuat'] = pd.to_datetime(df_tokopedia_transformed['tanggal_pesanan_dibuat']).dt.date\n",
    "df_tokopedia_transformed['tanggal_pesanan_dibuat'].head()"
   ]
  },
  {
   "cell_type": "code",
   "execution_count": 11,
   "metadata": {},
   "outputs": [
    {
     "name": "stdout",
     "output_type": "stream",
     "text": [
      "<class 'pandas.core.frame.DataFrame'>\n",
      "RangeIndex: 500 entries, 0 to 499\n",
      "Data columns (total 19 columns):\n",
      " #   Column                      Non-Null Count  Dtype \n",
      "---  ------                      --------------  ----- \n",
      " 0   no_pesanan                  500 non-null    int64 \n",
      " 1   tanggal_pesanan_dibuat      500 non-null    object\n",
      " 2   status                      500 non-null    object\n",
      " 3   mapping_status              500 non-null    object\n",
      " 4   sku_induk                   500 non-null    int64 \n",
      " 5   nama_produk                 500 non-null    object\n",
      " 6   mapping_product             500 non-null    object\n",
      " 7   nama_variasi                500 non-null    object\n",
      " 8   kategori                    500 non-null    object\n",
      " 9   harga_awal                  500 non-null    int64 \n",
      " 10  jumlah                      500 non-null    int64 \n",
      " 11  total_harga_sebelum_diskon  500 non-null    int64 \n",
      " 12  total_harga_setelah_diskon  500 non-null    int64 \n",
      " 13  mapping_pembeli             500 non-null    object\n",
      " 14  mapping_kota                500 non-null    object\n",
      " 15  mapping_provinsi            500 non-null    object\n",
      " 16  channel                     500 non-null    object\n",
      " 17  brand                       500 non-null    object\n",
      " 18  store                       500 non-null    object\n",
      "dtypes: int64(6), object(13)\n",
      "memory usage: 74.3+ KB\n"
     ]
    }
   ],
   "source": [
    "df_tokopedia_transformed.info()"
   ]
  },
  {
   "cell_type": "markdown",
   "metadata": {},
   "source": [
    "- Data Tiktok"
   ]
  },
  {
   "cell_type": "code",
   "execution_count": 12,
   "metadata": {},
   "outputs": [
    {
     "name": "stdout",
     "output_type": "stream",
     "text": [
      "<class 'pandas.core.frame.DataFrame'>\n",
      "RangeIndex: 149 entries, 0 to 148\n",
      "Data columns (total 55 columns):\n",
      " #   Column                          Non-Null Count  Dtype  \n",
      "---  ------                          --------------  -----  \n",
      " 0   Order ID                        149 non-null    int64  \n",
      " 1   Order Status                    149 non-null    object \n",
      " 2   Order Substatus                 149 non-null    object \n",
      " 3   Cancelation/Return Type         5 non-null      object \n",
      " 4   Normal or Pre-order             149 non-null    object \n",
      " 5   SKU ID                          149 non-null    int64  \n",
      " 6   Seller SKU                      145 non-null    float64\n",
      " 7   Product Name                    149 non-null    object \n",
      " 8   Variation                       149 non-null    object \n",
      " 9   Quantity                        149 non-null    int64  \n",
      " 10  Sku Quantity of return          149 non-null    int64  \n",
      " 11  SKU Unit Original Price         149 non-null    object \n",
      " 12  SKU Subtotal Before Discount    149 non-null    object \n",
      " 13  SKU Platform Discount           149 non-null    object \n",
      " 14  SKU Seller Discount             149 non-null    object \n",
      " 15  SKU Subtotal After Discount     149 non-null    object \n",
      " 16  Shipping Fee After Discount     149 non-null    object \n",
      " 17  Original Shipping Fee           149 non-null    object \n",
      " 18  Shipping Fee Seller Discount    149 non-null    object \n",
      " 19  Shipping Fee Platform Discount  149 non-null    object \n",
      " 20  Taxes                           149 non-null    object \n",
      " 21  Order Amount                    149 non-null    object \n",
      " 22  Order Refund Amount             5 non-null      object \n",
      " 23  Created Time                    149 non-null    object \n",
      " 24  Paid Time                       149 non-null    object \n",
      " 25  RTS Time                        149 non-null    object \n",
      " 26  Shipped Time                    149 non-null    object \n",
      " 27  Delivered Time                  147 non-null    object \n",
      " 28  Cancelled Time                  0 non-null      float64\n",
      " 29  Cancel By                       0 non-null      float64\n",
      " 30  Cancel Reason                   0 non-null      float64\n",
      " 31  Fulfillment Type                149 non-null    object \n",
      " 32  Warehouse Name                  149 non-null    object \n",
      " 33  Tracking ID                     149 non-null    object \n",
      " 34  Delivery Option                 149 non-null    object \n",
      " 35  Shipping Provider Name          149 non-null    object \n",
      " 36  Buyer Message                   3 non-null      object \n",
      " 37  Buyer Username                  148 non-null    object \n",
      " 38  Recipient                       149 non-null    object \n",
      " 39  Phone #                         149 non-null    object \n",
      " 40  Zipcode                         0 non-null      float64\n",
      " 41  Country                         149 non-null    object \n",
      " 42  Province                        149 non-null    object \n",
      " 43  Regency and City                149 non-null    object \n",
      " 44  Districts                       149 non-null    object \n",
      " 45  Villages                        149 non-null    object \n",
      " 46  Detail Address                  149 non-null    object \n",
      " 47  Additional address information  0 non-null      float64\n",
      " 48  Payment Method                  149 non-null    object \n",
      " 49  Weight(kg)                      149 non-null    float64\n",
      " 50  Product Category                149 non-null    object \n",
      " 51  Package ID                      149 non-null    int64  \n",
      " 52  Seller Note                     0 non-null      float64\n",
      " 53  Checked Status                  149 non-null    object \n",
      " 54  Checked Marked by               0 non-null      float64\n",
      "dtypes: float64(9), int64(5), object(41)\n",
      "memory usage: 64.2+ KB\n"
     ]
    }
   ],
   "source": [
    "df_tiktok.info()"
   ]
  },
  {
   "cell_type": "code",
   "execution_count": 13,
   "metadata": {},
   "outputs": [],
   "source": [
    "# Ambil kolom yang dibutuhkan dan tambahkan kolom baru\n",
    "df_tiktok_transformed = df_tiktok.copy()\n",
    "\n",
    "# Tambah kolom baru dan kosongi isinya\n",
    "df_tiktok_transformed['mapping_status'] = ''\n",
    "df_tiktok_transformed['mapping_product'] = ''\n",
    "df_tiktok_transformed['kategori'] = ''\n",
    "\n",
    "df_tiktok_transformed['SKU Unit Original Price'] = df_tiktok_transformed['SKU Unit Original Price'].str.replace('IDR', '', regex=False).str.replace('.', '', regex=False).str.strip()\n",
    "df_tiktok_transformed['SKU Unit Original Price'] = df_tiktok_transformed['SKU Unit Original Price'].fillna(0)\n",
    "df_tiktok_transformed['SKU Unit Original Price'] = df_tiktok_transformed['SKU Unit Original Price'].astype(int)\n",
    "df_tiktok_transformed['SKU Subtotal After Discount'] = df_tiktok_transformed['SKU Subtotal After Discount'].str.replace('IDR', '', regex=False).str.replace('.', '', regex=False).str.strip()\n",
    "df_tiktok_transformed['SKU Subtotal After Discount'] = df_tiktok_transformed['SKU Subtotal After Discount'].fillna(0)\n",
    "df_tiktok_transformed['SKU Subtotal After Discount'] = df_tiktok_transformed['SKU Subtotal After Discount'].astype(int)\n",
    "df_tiktok_transformed['SKU Subtotal Before Discount'] = df_tiktok_transformed['SKU Subtotal Before Discount'].str.replace('IDR', '', regex=False).str.replace('.', '', regex=False).str.strip()\n",
    "df_tiktok_transformed['SKU Subtotal Before Discount'] = df_tiktok_transformed['SKU Subtotal Before Discount'].fillna(0)\n",
    "df_tiktok_transformed['SKU Subtotal Before Discount'] = df_tiktok_transformed['SKU Subtotal Before Discount'].astype(int)\n",
    "\n",
    "# Hitung total harga sebelum dan setelah diskon\n",
    "df_tiktok_transformed['total_harga_sebelum_diskon'] = df_tiktok_transformed['SKU Subtotal Before Discount']\n",
    "df_tiktok_transformed['total_harga_setelah_diskon'] = df_tiktok_transformed['SKU Subtotal After Discount']\n",
    "\n",
    "# Kolom Username (Pembeli) diisi dengan 'Nama Penerima' + 'No. Telepon' jika null\n",
    "df_tiktok_transformed['mapping_pembeli'] = df_tiktok_transformed['Buyer Username']\n",
    "df_tiktok_transformed['mapping_pembeli'].fillna(df_tiktok_transformed['Recipient'] + ' ' + df_tiktok_transformed['Phone #'], inplace=True)\n",
    "\n",
    "# Tambah kolom dengan nilai tetap\n",
    "df_tiktok_transformed['channel'] = 'B2C'\n",
    "df_tiktok_transformed['brand'] = 'Avoskin'\n",
    "df_tiktok_transformed['store'] = 'TikTok'\n",
    "\n",
    "# Mengatur urutan kolom\n",
    "df_tiktok_transformed = df_tiktok_transformed[[\n",
    "    'Order ID', \n",
    "    'Created Time', \n",
    "    'Order Status', \n",
    "    'mapping_status', \n",
    "    'Seller SKU', \n",
    "    'Product Name', \n",
    "    'mapping_product', \n",
    "    'Variation', \n",
    "    'kategori', \n",
    "    'SKU Unit Original Price', \n",
    "    'Quantity', \n",
    "    'total_harga_sebelum_diskon', \n",
    "    'total_harga_setelah_diskon', \n",
    "    'mapping_pembeli', \n",
    "    'Regency and City', \n",
    "    'Province', \n",
    "    'channel', \n",
    "    'brand', \n",
    "    'store'\n",
    "]]\n",
    "\n",
    "# Mengganti nama kolom\n",
    "df_tiktok_transformed.columns = [\n",
    "    'no_pesanan',\n",
    "    'tanggal_pesanan_dibuat',\n",
    "    'status',\n",
    "    'mapping_status',\n",
    "    'sku_induk',\n",
    "    'nama_produk',\n",
    "    'mapping_product',\n",
    "    'nama_variasi',\n",
    "    'kategori',\n",
    "    'harga_awal',\n",
    "    'jumlah',\n",
    "    'total_harga_sebelum_diskon',\n",
    "    'total_harga_setelah_diskon',\n",
    "    'mapping_pembeli',\n",
    "    'mapping_kota',\n",
    "    'mapping_provinsi',\n",
    "    'channel',\n",
    "    'brand',\n",
    "    'store'\n",
    "]"
   ]
  },
  {
   "cell_type": "code",
   "execution_count": 14,
   "metadata": {},
   "outputs": [
    {
     "data": {
      "text/plain": [
       "0    2021-12-31\n",
       "1    2021-12-31\n",
       "2    2021-12-30\n",
       "3    2021-12-30\n",
       "4    2021-12-30\n",
       "Name: tanggal_pesanan_dibuat, dtype: object"
      ]
     },
     "execution_count": 14,
     "metadata": {},
     "output_type": "execute_result"
    }
   ],
   "source": [
    "# Mengonversi kolom 'tanggal_pesanan_dibuat' menjadi tipe data datetime (format YYYY-MM-DD)\n",
    "df_tiktok_transformed['tanggal_pesanan_dibuat'] = pd.to_datetime(df_tiktok_transformed['tanggal_pesanan_dibuat']).dt.date\n",
    "df_tiktok_transformed['tanggal_pesanan_dibuat'].head()"
   ]
  },
  {
   "cell_type": "code",
   "execution_count": 15,
   "metadata": {},
   "outputs": [
    {
     "name": "stdout",
     "output_type": "stream",
     "text": [
      "<class 'pandas.core.frame.DataFrame'>\n",
      "RangeIndex: 149 entries, 0 to 148\n",
      "Data columns (total 19 columns):\n",
      " #   Column                      Non-Null Count  Dtype  \n",
      "---  ------                      --------------  -----  \n",
      " 0   no_pesanan                  149 non-null    int64  \n",
      " 1   tanggal_pesanan_dibuat      149 non-null    object \n",
      " 2   status                      149 non-null    object \n",
      " 3   mapping_status              149 non-null    object \n",
      " 4   sku_induk                   145 non-null    float64\n",
      " 5   nama_produk                 149 non-null    object \n",
      " 6   mapping_product             149 non-null    object \n",
      " 7   nama_variasi                149 non-null    object \n",
      " 8   kategori                    149 non-null    object \n",
      " 9   harga_awal                  149 non-null    int32  \n",
      " 10  jumlah                      149 non-null    int64  \n",
      " 11  total_harga_sebelum_diskon  149 non-null    int32  \n",
      " 12  total_harga_setelah_diskon  149 non-null    int32  \n",
      " 13  mapping_pembeli             149 non-null    object \n",
      " 14  mapping_kota                149 non-null    object \n",
      " 15  mapping_provinsi            149 non-null    object \n",
      " 16  channel                     149 non-null    object \n",
      " 17  brand                       149 non-null    object \n",
      " 18  store                       149 non-null    object \n",
      "dtypes: float64(1), int32(3), int64(2), object(13)\n",
      "memory usage: 20.5+ KB\n"
     ]
    }
   ],
   "source": [
    "df_tiktok_transformed.info()"
   ]
  },
  {
   "cell_type": "markdown",
   "metadata": {},
   "source": [
    "- Data Website"
   ]
  },
  {
   "cell_type": "code",
   "execution_count": 16,
   "metadata": {},
   "outputs": [
    {
     "name": "stdout",
     "output_type": "stream",
     "text": [
      "<class 'pandas.core.frame.DataFrame'>\n",
      "RangeIndex: 292 entries, 0 to 291\n",
      "Data columns (total 28 columns):\n",
      " #   Column                  Non-Null Count  Dtype         \n",
      "---  ------                  --------------  -----         \n",
      " 0   Order ID                292 non-null    object        \n",
      " 1   Email                   292 non-null    object        \n",
      " 2   Tanggal Order           292 non-null    datetime64[ns]\n",
      " 3   Order Status            292 non-null    object        \n",
      " 4   Nama Customer           292 non-null    object        \n",
      " 5   Phone                   292 non-null    int64         \n",
      " 6   Province                292 non-null    object        \n",
      " 7   City                    292 non-null    object        \n",
      " 8   District                0 non-null      float64       \n",
      " 9   Postcode                292 non-null    int64         \n",
      " 10  Payment Method          292 non-null    object        \n",
      " 11  Shipping Method         292 non-null    object        \n",
      " 12  AWB                     226 non-null    object        \n",
      " 13  Shipping Price          292 non-null    int64         \n",
      " 14  Voucher Code            104 non-null    object        \n",
      " 15  Voucher                 104 non-null    float64       \n",
      " 16  Loyalty Poin            292 non-null    int64         \n",
      " 17  Tax                     292 non-null    int64         \n",
      " 18  Grand Total             292 non-null    int64         \n",
      " 19  Product ID              292 non-null    int64         \n",
      " 20  GS1 Product             211 non-null    object        \n",
      " 21  Nama Product            292 non-null    object        \n",
      " 22  Harga Awal              292 non-null    int64         \n",
      " 23  Harga Setelah Diskon    292 non-null    int64         \n",
      " 24  Qty                     292 non-null    int64         \n",
      " 25  Subtotal                292 non-null    int64         \n",
      " 26  Product Tax             292 non-null    int64         \n",
      " 27  Total Product with Tax  292 non-null    int64         \n",
      "dtypes: datetime64[ns](1), float64(2), int64(13), object(12)\n",
      "memory usage: 64.0+ KB\n"
     ]
    }
   ],
   "source": [
    "df_website.info()"
   ]
  },
  {
   "cell_type": "code",
   "execution_count": 17,
   "metadata": {},
   "outputs": [],
   "source": [
    "# Ambil kolom yang dibutuhkan dan tambahkan kolom baru\n",
    "df_website_transformed = df_website.copy()\n",
    "\n",
    "# Tambah kolom baru dan kosongi isinya\n",
    "df_website_transformed['mapping_status'] = ''\n",
    "df_website_transformed['mapping_product'] = ''\n",
    "df_website_transformed['kategori'] = ''\n",
    "df_website_transformed['nama_variasi'] = ''\n",
    "\n",
    "# Hitung total harga sebelum dan setelah diskon\n",
    "df_website_transformed['total_harga_sebelum_diskon'] = df_website_transformed['Harga Awal'] * df_website_transformed['Qty']\n",
    "df_website_transformed['total_harga_setelah_diskon'] =  df_website_transformed['Subtotal']\n",
    "\n",
    "# Kolom Username (Pembeli) diisi dengan 'Nama Penerima' + 'No. Telepon' jika null\n",
    "df_website_transformed['mapping_pembeli'] = df_website_transformed['Nama Customer']\n",
    "df_website_transformed['mapping_pembeli'].fillna(df_website_transformed['Phone'], inplace=True)\n",
    "\n",
    "# Tambah kolom dengan nilai tetap\n",
    "df_website_transformed['channel'] = 'B2C'\n",
    "df_website_transformed['brand'] = 'Avoskin'\n",
    "df_website_transformed['store'] = 'Website'\n",
    "\n",
    "# Atur urutan kolom seperti yang diminta\n",
    "df_website_transformed = df_website_transformed[[\n",
    "    'Order ID', \n",
    "    'Tanggal Order', \n",
    "    'Order Status', \n",
    "    'mapping_status', \n",
    "    'GS1 Product', \n",
    "    'Nama Product', \n",
    "    'mapping_product', \n",
    "    'nama_variasi', \n",
    "    'kategori', \n",
    "    'Harga Awal', \n",
    "    'Qty', \n",
    "    'total_harga_sebelum_diskon', \n",
    "    'total_harga_setelah_diskon', \n",
    "    'mapping_pembeli', \n",
    "    'City', \n",
    "    'Province', \n",
    "    'channel', \n",
    "    'brand', \n",
    "    'store'\n",
    "]]\n",
    "\n",
    "# Ganti nama kolom\n",
    "df_website_transformed.columns = [\n",
    "    'no_pesanan',\n",
    "    'tanggal_pesanan_dibuat',\n",
    "    'status',\n",
    "    'mapping_status',\n",
    "    'sku_induk',\n",
    "    'nama_produk',\n",
    "    'mapping_product',\n",
    "    'nama_variasi',\n",
    "    'kategori',\n",
    "    'harga_awal',\n",
    "    'jumlah',\n",
    "    'total_harga_sebelum_diskon',\n",
    "    'total_harga_setelah_diskon',\n",
    "    'mapping_pembeli',\n",
    "    'mapping_kota',\n",
    "    'mapping_provinsi',\n",
    "    'channel',\n",
    "    'brand',\n",
    "    'store'\n",
    "]"
   ]
  },
  {
   "cell_type": "code",
   "execution_count": 18,
   "metadata": {},
   "outputs": [
    {
     "data": {
      "text/plain": [
       "0    2021-12-01\n",
       "1    2021-12-01\n",
       "2    2021-12-01\n",
       "3    2021-12-01\n",
       "4    2021-12-01\n",
       "Name: tanggal_pesanan_dibuat, dtype: object"
      ]
     },
     "execution_count": 18,
     "metadata": {},
     "output_type": "execute_result"
    }
   ],
   "source": [
    "# Mengonversi kolom 'tanggal_pesanan_dibuat' menjadi tipe data datetime (format YYYY-MM-DD)\n",
    "df_website_transformed['tanggal_pesanan_dibuat'] = pd.to_datetime(df_website_transformed['tanggal_pesanan_dibuat']).dt.date\n",
    "df_website_transformed['tanggal_pesanan_dibuat'].head()"
   ]
  },
  {
   "cell_type": "code",
   "execution_count": 19,
   "metadata": {},
   "outputs": [
    {
     "name": "stdout",
     "output_type": "stream",
     "text": [
      "<class 'pandas.core.frame.DataFrame'>\n",
      "RangeIndex: 292 entries, 0 to 291\n",
      "Data columns (total 19 columns):\n",
      " #   Column                      Non-Null Count  Dtype \n",
      "---  ------                      --------------  ----- \n",
      " 0   no_pesanan                  292 non-null    object\n",
      " 1   tanggal_pesanan_dibuat      292 non-null    object\n",
      " 2   status                      292 non-null    object\n",
      " 3   mapping_status              292 non-null    object\n",
      " 4   sku_induk                   211 non-null    object\n",
      " 5   nama_produk                 292 non-null    object\n",
      " 6   mapping_product             292 non-null    object\n",
      " 7   nama_variasi                292 non-null    object\n",
      " 8   kategori                    292 non-null    object\n",
      " 9   harga_awal                  292 non-null    int64 \n",
      " 10  jumlah                      292 non-null    int64 \n",
      " 11  total_harga_sebelum_diskon  292 non-null    int64 \n",
      " 12  total_harga_setelah_diskon  292 non-null    int64 \n",
      " 13  mapping_pembeli             292 non-null    object\n",
      " 14  mapping_kota                292 non-null    object\n",
      " 15  mapping_provinsi            292 non-null    object\n",
      " 16  channel                     292 non-null    object\n",
      " 17  brand                       292 non-null    object\n",
      " 18  store                       292 non-null    object\n",
      "dtypes: int64(4), object(15)\n",
      "memory usage: 43.5+ KB\n"
     ]
    }
   ],
   "source": [
    "df_website_transformed.info()"
   ]
  },
  {
   "cell_type": "markdown",
   "metadata": {},
   "source": [
    "- Data Zalora"
   ]
  },
  {
   "cell_type": "code",
   "execution_count": 20,
   "metadata": {},
   "outputs": [
    {
     "name": "stdout",
     "output_type": "stream",
     "text": [
      "<class 'pandas.core.frame.DataFrame'>\n",
      "RangeIndex: 386 entries, 0 to 385\n",
      "Data columns (total 71 columns):\n",
      " #   Column                        Non-Null Count  Dtype  \n",
      "---  ------                        --------------  -----  \n",
      " 0   Order Item Id                 386 non-null    int64  \n",
      " 1   Zalora Id                     386 non-null    int64  \n",
      " 2   Seller SKU                    386 non-null    object \n",
      " 3   Zalora SKU                    386 non-null    object \n",
      " 4   Created at                    386 non-null    object \n",
      " 5   Updated at                    386 non-null    object \n",
      " 6   Order Number                  386 non-null    int64  \n",
      " 7   Order Source                  386 non-null    object \n",
      " 8   Order Currency                386 non-null    object \n",
      " 9   Customer Name                 386 non-null    object \n",
      " 10  National Registration Number  0 non-null      float64\n",
      " 11  Shipping Name                 386 non-null    object \n",
      " 12  Shipping Address              386 non-null    object \n",
      " 13  Shipping Address2             386 non-null    object \n",
      " 14  Shipping Address3             386 non-null    object \n",
      " 15  Shipping Address4             386 non-null    object \n",
      " 16  Shipping Address5             386 non-null    object \n",
      " 17  Shipping Phone Number         386 non-null    int64  \n",
      " 18  Shipping Phone Number2        386 non-null    int64  \n",
      " 19  Shipping City                 386 non-null    object \n",
      " 20  Shipping Postcode             0 non-null      float64\n",
      " 21  Shipping Country              386 non-null    object \n",
      " 22  Shipping Ward                 386 non-null    object \n",
      " 23  Shipping Region               386 non-null    object \n",
      " 24  Billing Name                  386 non-null    object \n",
      " 25  Billing Address               386 non-null    object \n",
      " 26  Billing Address2              386 non-null    object \n",
      " 27  Billing Address3              386 non-null    object \n",
      " 28  Billing Address4              386 non-null    object \n",
      " 29  Billing Address5              386 non-null    object \n",
      " 30  Billing Phone Number          386 non-null    int64  \n",
      " 31  Billing Phone Number2         386 non-null    object \n",
      " 32  Billing City                  386 non-null    object \n",
      " 33  Billing Postcode              0 non-null      float64\n",
      " 34  Billing Country               386 non-null    object \n",
      " 35  Billing Ward                  386 non-null    object \n",
      " 36  Billing Region                386 non-null    object \n",
      " 37  Payment Method                386 non-null    object \n",
      " 38  Paid Price                    386 non-null    int64  \n",
      " 39  Unit Price                    386 non-null    int64  \n",
      " 40  Tax Amount                    386 non-null    int64  \n",
      " 41  Shipping Fee                  386 non-null    float64\n",
      " 42  Wallet Credits                386 non-null    int64  \n",
      " 43  Item Name                     386 non-null    object \n",
      " 44  Variation                     386 non-null    object \n",
      " 45  CD Shipping Provider          0 non-null      float64\n",
      " 46  Shipping Provider             386 non-null    object \n",
      " 47  Shipment Type Name            386 non-null    object \n",
      " 48  Shipping Provider Type        386 non-null    object \n",
      " 49  CD Tracking Code              0 non-null      float64\n",
      " 50  Tracking Code                 378 non-null    object \n",
      " 51  Tracking URL                  0 non-null      float64\n",
      " 52  Promised shipping time        0 non-null      float64\n",
      " 53  Premium                       386 non-null    object \n",
      " 54  Status                        386 non-null    object \n",
      " 55  Reason                        10 non-null     object \n",
      " 56  Box Height (cm)               99 non-null     float64\n",
      " 57  Box Width (cm)                99 non-null     float64\n",
      " 58  Box Length (cm)               99 non-null     float64\n",
      " 59  Product Weight (Kg)           111 non-null    float64\n",
      " 60  Warehouse Name                0 non-null      float64\n",
      " 61  voucher: discount             363 non-null    object \n",
      " 62  Store Credits                 386 non-null    int64  \n",
      " 63  Shipping Voucher              386 non-null    float64\n",
      " 64  Exchange for                  0 non-null      float64\n",
      " 65  Exchange by                   0 non-null      float64\n",
      " 66  Extra attributes              386 non-null    object \n",
      " 67  Manifest Id                   0 non-null      float64\n",
      " 68  Manifest Created At           0 non-null      float64\n",
      " 69  Manifest Shipment Provider    0 non-null      float64\n",
      " 70  Manifest Tracking Number      0 non-null      float64\n",
      "dtypes: float64(20), int64(11), object(40)\n",
      "memory usage: 214.2+ KB\n"
     ]
    }
   ],
   "source": [
    "df_zalora.info()"
   ]
  },
  {
   "cell_type": "code",
   "execution_count": 21,
   "metadata": {},
   "outputs": [],
   "source": [
    "# Ambil kolom yang dibutuhkan dan tambahkan kolom baru\n",
    "df_zalora_transformed = df_zalora.copy()\n",
    "\n",
    "# Tambah kolom baru dan kosongi isinya\n",
    "df_zalora_transformed['mapping_status'] = ''\n",
    "df_zalora_transformed['mapping_product'] = ''\n",
    "df_zalora_transformed['kategori'] = ''\n",
    "df_zalora_transformed['City'] = ''\n",
    "df_zalora_transformed['Province'] = ''\n",
    "df_zalora_transformed['Jumlah'] = 1\n",
    "\n",
    "# Hitung total harga sebelum dan setelah diskon\n",
    "df_zalora_transformed['total_harga_sebelum_diskon'] = df_zalora_transformed['Unit Price'] * 1\n",
    "df_zalora_transformed['total_harga_setelah_diskon'] = df_zalora_transformed['Paid Price'] * 1\n",
    "\n",
    "# Kolom Username (Pembeli) diisi dengan 'Nama Penerima' + 'No. Telepon' jika null\n",
    "df_zalora_transformed['mapping_pembeli'] = df_zalora_transformed['Customer Name']\n",
    "df_zalora_transformed['mapping_pembeli'].fillna(df_zalora_transformed['Shipping Name']+ ' ' + df_zalora_transformed['Billing Phone Number2'], inplace=True)\n",
    "\n",
    "# Tambah kolom dengan nilai tetap\n",
    "df_zalora_transformed['channel'] = 'B2C'\n",
    "df_zalora_transformed['brand'] = 'Avoskin'\n",
    "df_zalora_transformed['store'] = 'Zalora'\n",
    "\n",
    "# Atur urutan kolom seperti yang diminta\n",
    "df_zalora_transformed = df_zalora_transformed[[\n",
    "    'Order Number', \n",
    "    'Created at', \n",
    "    'Status', \n",
    "    'mapping_status', \n",
    "    'Seller SKU', \n",
    "    'Item Name', \n",
    "    'mapping_product', \n",
    "    'Variation', \n",
    "    'kategori', \n",
    "    'Unit Price', \n",
    "    'Jumlah', \n",
    "    'total_harga_sebelum_diskon', \n",
    "    'total_harga_setelah_diskon', \n",
    "    'mapping_pembeli', \n",
    "    'City', \n",
    "    'Province', \n",
    "    'channel', \n",
    "    'brand', \n",
    "    'store'\n",
    "]]\n",
    "\n",
    "# Mengganti nama kolom\n",
    "df_zalora_transformed.columns = [\n",
    "    'no_pesanan',\n",
    "    'tanggal_pesanan_dibuat',\n",
    "    'status',\n",
    "    'mapping_status',\n",
    "    'sku_induk',\n",
    "    'nama_produk',\n",
    "    'mapping_product',\n",
    "    'nama_variasi',\n",
    "    'kategori',\n",
    "    'harga_awal',\n",
    "    'jumlah',\n",
    "    'total_harga_sebelum_diskon',\n",
    "    'total_harga_setelah_diskon',\n",
    "    'mapping_pembeli',\n",
    "    'mapping_kota',\n",
    "    'mapping_provinsi',\n",
    "    'channel',\n",
    "    'brand',\n",
    "    'store'\n",
    "]"
   ]
  },
  {
   "cell_type": "code",
   "execution_count": 22,
   "metadata": {},
   "outputs": [
    {
     "data": {
      "text/plain": [
       "0    2021-12-30\n",
       "1    2021-12-30\n",
       "2    2021-12-30\n",
       "3    2021-12-30\n",
       "4    2021-12-30\n",
       "Name: tanggal_pesanan_dibuat, dtype: object"
      ]
     },
     "execution_count": 22,
     "metadata": {},
     "output_type": "execute_result"
    }
   ],
   "source": [
    "# Mengonversi kolom 'tanggal_pesanan_dibuat' menjadi tipe data datetime (format YYYY-MM-DD)\n",
    "df_zalora_transformed['tanggal_pesanan_dibuat'] = pd.to_datetime(df_zalora_transformed['tanggal_pesanan_dibuat']).dt.date\n",
    "df_zalora_transformed['tanggal_pesanan_dibuat'].head()"
   ]
  },
  {
   "cell_type": "code",
   "execution_count": 23,
   "metadata": {},
   "outputs": [
    {
     "name": "stdout",
     "output_type": "stream",
     "text": [
      "<class 'pandas.core.frame.DataFrame'>\n",
      "RangeIndex: 386 entries, 0 to 385\n",
      "Data columns (total 19 columns):\n",
      " #   Column                      Non-Null Count  Dtype \n",
      "---  ------                      --------------  ----- \n",
      " 0   no_pesanan                  386 non-null    int64 \n",
      " 1   tanggal_pesanan_dibuat      386 non-null    object\n",
      " 2   status                      386 non-null    object\n",
      " 3   mapping_status              386 non-null    object\n",
      " 4   sku_induk                   386 non-null    object\n",
      " 5   nama_produk                 386 non-null    object\n",
      " 6   mapping_product             386 non-null    object\n",
      " 7   nama_variasi                386 non-null    object\n",
      " 8   kategori                    386 non-null    object\n",
      " 9   harga_awal                  386 non-null    int64 \n",
      " 10  jumlah                      386 non-null    int64 \n",
      " 11  total_harga_sebelum_diskon  386 non-null    int64 \n",
      " 12  total_harga_setelah_diskon  386 non-null    int64 \n",
      " 13  mapping_pembeli             386 non-null    object\n",
      " 14  mapping_kota                386 non-null    object\n",
      " 15  mapping_provinsi            386 non-null    object\n",
      " 16  channel                     386 non-null    object\n",
      " 17  brand                       386 non-null    object\n",
      " 18  store                       386 non-null    object\n",
      "dtypes: int64(5), object(14)\n",
      "memory usage: 57.4+ KB\n"
     ]
    }
   ],
   "source": [
    "df_zalora_transformed.info()"
   ]
  },
  {
   "cell_type": "markdown",
   "metadata": {},
   "source": [
    "- Data Retail"
   ]
  },
  {
   "cell_type": "code",
   "execution_count": 24,
   "metadata": {},
   "outputs": [
    {
     "name": "stdout",
     "output_type": "stream",
     "text": [
      "<class 'pandas.core.frame.DataFrame'>\n",
      "RangeIndex: 501 entries, 0 to 500\n",
      "Data columns (total 10 columns):\n",
      " #   Column                Non-Null Count  Dtype         \n",
      "---  ------                --------------  -----         \n",
      " 0   Tanggal Pesanan       501 non-null    datetime64[ns]\n",
      " 1   Username              501 non-null    object        \n",
      " 2   No Pesanan            501 non-null    int64         \n",
      " 3   SKU Induk             483 non-null    float64       \n",
      " 4   Nama Produk           501 non-null    object        \n",
      " 5   Nama Variasi          0 non-null      float64       \n",
      " 6   Jumlah Pesanan (Qty)  501 non-null    int64         \n",
      " 7   Harga Awal            501 non-null    int64         \n",
      " 8   Total Diskon          501 non-null    int64         \n",
      " 9   Kota                  495 non-null    object        \n",
      "dtypes: datetime64[ns](1), float64(2), int64(4), object(3)\n",
      "memory usage: 39.3+ KB\n"
     ]
    }
   ],
   "source": [
    "df_retail.info()"
   ]
  },
  {
   "cell_type": "code",
   "execution_count": 25,
   "metadata": {},
   "outputs": [],
   "source": [
    "# Salin DataFrame dan tambahkan kolom baru\n",
    "df_retail_transformed = df_retail.copy()\n",
    "\n",
    "# Tambah kolom baru dan kosongi isinya\n",
    "df_retail_transformed['mapping_status'] = ''\n",
    "df_retail_transformed['mapping_product'] = ''\n",
    "df_retail_transformed['kategori'] = ''\n",
    "df_retail_transformed['Province'] = ''\n",
    "df_retail_transformed['Status'] = 'Selesai'\n",
    "\n",
    "# Hitung total harga sebelum dan setelah diskon\n",
    "df_retail_transformed['total_harga_sebelum_diskon'] = df_retail_transformed['Harga Awal'] * df_retail_transformed['Jumlah Pesanan (Qty)']\n",
    "df_retail_transformed['total_harga_setelah_diskon'] = df_retail_transformed['total_harga_sebelum_diskon'] - df_retail_transformed['Total Diskon']\n",
    "\n",
    "# Kolom Username (Pembeli) diisi dengan 'Nama Penerima' + 'No. Telepon' jika null\n",
    "df_retail_transformed['mapping_pembeli'] = df_retail_transformed['Username']\n",
    "\n",
    "# Tambah kolom dengan nilai tetap\n",
    "df_retail_transformed['channel'] = 'B2B'\n",
    "df_retail_transformed['brand'] = 'Avoskin'\n",
    "df_retail_transformed['store'] = df_retail_transformed['Username']\n",
    "\n",
    "# Atur urutan kolom seperti yang diminta\n",
    "df_retail_transformed = df_retail_transformed.rename(columns={\n",
    "    'No Pesanan': 'no_pesanan',\n",
    "    'Tanggal Pesanan': 'tanggal_pesanan_dibuat',\n",
    "    'Status': 'status',\n",
    "    'mapping_status': 'mapping_status',\n",
    "    'SKU Induk': 'sku_induk',\n",
    "    'Nama Produk': 'nama_produk',\n",
    "    'mapping_product': 'mapping_product',\n",
    "    'Nama Variasi': 'nama_variasi',\n",
    "    'kategori': 'kategori',\n",
    "    'Harga Awal': 'harga_awal',\n",
    "    'Jumlah Pesanan (Qty)': 'jumlah',\n",
    "    'total_harga_sebelum_diskon': 'total_harga_sebelum_diskon',\n",
    "    'total_harga_setelah_diskon': 'total_harga_setelah_diskon',\n",
    "    'mapping_pembeli': 'mapping_pembeli',\n",
    "    'Kota': 'mapping_kota',\n",
    "    'Province': 'mapping_provinsi',\n",
    "    'channel': 'channel',\n",
    "    'brand': 'brand',\n",
    "    'store': 'store'\n",
    "})\n",
    "\n",
    "# Atur urutan kolom sesuai yang diminta\n",
    "df_retail_transformed = df_retail_transformed[[\n",
    "    'no_pesanan', \n",
    "    'tanggal_pesanan_dibuat', \n",
    "    'status', \n",
    "    'mapping_status', \n",
    "    'sku_induk', \n",
    "    'nama_produk', \n",
    "    'mapping_product', \n",
    "    'nama_variasi', \n",
    "    'kategori', \n",
    "    'harga_awal', \n",
    "    'jumlah', \n",
    "    'total_harga_sebelum_diskon', \n",
    "    'total_harga_setelah_diskon', \n",
    "    'mapping_pembeli', \n",
    "    'mapping_kota', \n",
    "    'mapping_provinsi', \n",
    "    'channel', \n",
    "    'brand', \n",
    "    'store'\n",
    "]]"
   ]
  },
  {
   "cell_type": "code",
   "execution_count": 26,
   "metadata": {},
   "outputs": [
    {
     "data": {
      "text/plain": [
       "0    2021-12-01\n",
       "1    2021-12-01\n",
       "2    2021-12-01\n",
       "3    2021-12-01\n",
       "4    2021-12-01\n",
       "Name: tanggal_pesanan_dibuat, dtype: object"
      ]
     },
     "execution_count": 26,
     "metadata": {},
     "output_type": "execute_result"
    }
   ],
   "source": [
    "# Mengonversi kolom 'tanggal_pesanan_dibuat' menjadi tipe data datetime (format YYYY-MM-DD)\n",
    "df_retail_transformed['tanggal_pesanan_dibuat'] = pd.to_datetime(df_retail_transformed['tanggal_pesanan_dibuat']).dt.date\n",
    "df_retail_transformed['tanggal_pesanan_dibuat'].head()"
   ]
  },
  {
   "cell_type": "code",
   "execution_count": 27,
   "metadata": {},
   "outputs": [
    {
     "name": "stdout",
     "output_type": "stream",
     "text": [
      "<class 'pandas.core.frame.DataFrame'>\n",
      "RangeIndex: 501 entries, 0 to 500\n",
      "Data columns (total 19 columns):\n",
      " #   Column                      Non-Null Count  Dtype  \n",
      "---  ------                      --------------  -----  \n",
      " 0   no_pesanan                  501 non-null    int64  \n",
      " 1   tanggal_pesanan_dibuat      501 non-null    object \n",
      " 2   status                      501 non-null    object \n",
      " 3   mapping_status              501 non-null    object \n",
      " 4   sku_induk                   483 non-null    float64\n",
      " 5   nama_produk                 501 non-null    object \n",
      " 6   mapping_product             501 non-null    object \n",
      " 7   nama_variasi                0 non-null      float64\n",
      " 8   kategori                    501 non-null    object \n",
      " 9   harga_awal                  501 non-null    int64  \n",
      " 10  jumlah                      501 non-null    int64  \n",
      " 11  total_harga_sebelum_diskon  501 non-null    int64  \n",
      " 12  total_harga_setelah_diskon  501 non-null    int64  \n",
      " 13  mapping_pembeli             501 non-null    object \n",
      " 14  mapping_kota                495 non-null    object \n",
      " 15  mapping_provinsi            501 non-null    object \n",
      " 16  channel                     501 non-null    object \n",
      " 17  brand                       501 non-null    object \n",
      " 18  store                       501 non-null    object \n",
      "dtypes: float64(2), int64(5), object(12)\n",
      "memory usage: 74.5+ KB\n"
     ]
    }
   ],
   "source": [
    "df_retail_transformed.info()"
   ]
  },
  {
   "cell_type": "markdown",
   "metadata": {},
   "source": [
    "- Data Modern Trade (GT)"
   ]
  },
  {
   "cell_type": "code",
   "execution_count": 28,
   "metadata": {},
   "outputs": [
    {
     "name": "stdout",
     "output_type": "stream",
     "text": [
      "<class 'pandas.core.frame.DataFrame'>\n",
      "RangeIndex: 501 entries, 0 to 500\n",
      "Data columns (total 11 columns):\n",
      " #   Column                Non-Null Count  Dtype         \n",
      "---  ------                --------------  -----         \n",
      " 0   Tanggal Pesanan       501 non-null    datetime64[ns]\n",
      " 1   Channel               501 non-null    object        \n",
      " 2   Username              501 non-null    object        \n",
      " 3   No Pesanan            501 non-null    object        \n",
      " 4   SKU Induk             493 non-null    float64       \n",
      " 5   Nama Produk           501 non-null    object        \n",
      " 6   Nama Variasi          0 non-null      float64       \n",
      " 7   Jumlah Pesanan (Qty)  501 non-null    int64         \n",
      " 8   Harga Awal            501 non-null    int64         \n",
      " 9   Total Diskon          501 non-null    int64         \n",
      " 10  Kota                  501 non-null    object        \n",
      "dtypes: datetime64[ns](1), float64(2), int64(3), object(5)\n",
      "memory usage: 43.2+ KB\n"
     ]
    }
   ],
   "source": [
    "df_gt.info()"
   ]
  },
  {
   "cell_type": "code",
   "execution_count": 29,
   "metadata": {},
   "outputs": [],
   "source": [
    "# Salin DataFrame dan tambahkan kolom baru\n",
    "df_gt_transformed = df_gt.copy()\n",
    "\n",
    "# Tambah kolom baru dan kosongi isinya\n",
    "df_gt_transformed['mapping_status'] = ''\n",
    "df_gt_transformed['mapping_product'] = ''\n",
    "df_gt_transformed['kategori'] = ''\n",
    "df_gt_transformed['Province'] = ''\n",
    "df_gt_transformed['Status'] = 'Selesai'\n",
    "df_gt_transformed['Total Diskon'] = df_gt_transformed['Total Diskon'].astype(int)\n",
    "\n",
    "# Hitung total harga sebelum dan setelah diskon\n",
    "df_gt_transformed['total_harga_sebelum_diskon'] = df_gt_transformed['Harga Awal'] * df_gt_transformed['Jumlah Pesanan (Qty)']\n",
    "df_gt_transformed['total_harga_setelah_diskon'] = df_gt_transformed['total_harga_sebelum_diskon'] - df_gt_transformed['Total Diskon']\n",
    "\n",
    "# Kolom Username (Pembeli) diisi dengan 'Nama Penerima' + 'No. Telepon' jika null\n",
    "df_gt_transformed['mapping_pembeli'] = df_gt_transformed['Username']\n",
    "\n",
    "# Tambah kolom dengan nilai tetap\n",
    "df_gt_transformed['channel'] = 'B2B'\n",
    "df_gt_transformed['brand'] = 'Avoskin'\n",
    "df_gt_transformed['store'] = df_gt_transformed['Username']\n",
    "\n",
    "# Atur urutan kolom seperti yang diminta\n",
    "# Define the new column names\n",
    "new_column_names = {\n",
    "    'No Pesanan': 'no_pesanan',\n",
    "    'Tanggal Pesanan': 'tanggal_pesanan_dibuat',\n",
    "    'Status': 'status',\n",
    "    'mapping_status': 'mapping_status',\n",
    "    'SKU Induk': 'sku_induk',\n",
    "    'Nama Produk': 'nama_produk',\n",
    "    'mapping_product': 'mapping_product',\n",
    "    'Nama Variasi': 'nama_variasi',\n",
    "    'kategori': 'kategori',\n",
    "    'Harga Awal': 'harga_awal',\n",
    "    'Jumlah Pesanan (Qty)': 'jumlah',\n",
    "    'total_harga_sebelum_diskon': 'total_harga_sebelum_diskon',\n",
    "    'total_harga_setelah_diskon': 'total_harga_setelah_diskon',\n",
    "    'mapping_pembeli': 'mapping_pembeli',\n",
    "    'Kota': 'mapping_kota',\n",
    "    'Province': 'mapping_provinsi',\n",
    "    'channel': 'channel',\n",
    "    'brand': 'brand',\n",
    "    'store': 'store'\n",
    "}\n",
    "\n",
    "# Rename columns\n",
    "df_gt_transformed = df_gt_transformed.rename(columns=new_column_names)\n",
    "\n",
    "# Reorder columns\n",
    "df_gt_transformed = df_gt_transformed[[\n",
    "    'no_pesanan',\n",
    "    'tanggal_pesanan_dibuat',\n",
    "    'status',\n",
    "    'mapping_status',\n",
    "    'sku_induk',\n",
    "    'nama_produk',\n",
    "    'mapping_product',\n",
    "    'nama_variasi',\n",
    "    'kategori',\n",
    "    'harga_awal',\n",
    "    'jumlah',\n",
    "    'total_harga_sebelum_diskon',\n",
    "    'total_harga_setelah_diskon',\n",
    "    'mapping_pembeli',\n",
    "    'mapping_kota',\n",
    "    'mapping_provinsi',\n",
    "    'channel',\n",
    "    'brand',\n",
    "    'store'\n",
    "]]"
   ]
  },
  {
   "cell_type": "code",
   "execution_count": 30,
   "metadata": {},
   "outputs": [
    {
     "data": {
      "text/plain": [
       "0    2021-12-17\n",
       "1    2021-12-17\n",
       "2    2021-12-17\n",
       "3    2021-12-17\n",
       "4    2021-12-17\n",
       "Name: tanggal_pesanan_dibuat, dtype: object"
      ]
     },
     "execution_count": 30,
     "metadata": {},
     "output_type": "execute_result"
    }
   ],
   "source": [
    "# Mengonversi kolom 'tanggal_pesanan_dibuat' menjadi tipe data datetime (format YYYY-MM-DD)\n",
    "df_gt_transformed['tanggal_pesanan_dibuat'] = pd.to_datetime(df_gt_transformed['tanggal_pesanan_dibuat']).dt.date\n",
    "df_gt_transformed['tanggal_pesanan_dibuat'].head()"
   ]
  },
  {
   "cell_type": "code",
   "execution_count": 31,
   "metadata": {},
   "outputs": [
    {
     "name": "stdout",
     "output_type": "stream",
     "text": [
      "<class 'pandas.core.frame.DataFrame'>\n",
      "RangeIndex: 501 entries, 0 to 500\n",
      "Data columns (total 19 columns):\n",
      " #   Column                      Non-Null Count  Dtype  \n",
      "---  ------                      --------------  -----  \n",
      " 0   no_pesanan                  501 non-null    object \n",
      " 1   tanggal_pesanan_dibuat      501 non-null    object \n",
      " 2   status                      501 non-null    object \n",
      " 3   mapping_status              501 non-null    object \n",
      " 4   sku_induk                   493 non-null    float64\n",
      " 5   nama_produk                 501 non-null    object \n",
      " 6   mapping_product             501 non-null    object \n",
      " 7   nama_variasi                0 non-null      float64\n",
      " 8   kategori                    501 non-null    object \n",
      " 9   harga_awal                  501 non-null    int64  \n",
      " 10  jumlah                      501 non-null    int64  \n",
      " 11  total_harga_sebelum_diskon  501 non-null    int64  \n",
      " 12  total_harga_setelah_diskon  501 non-null    int64  \n",
      " 13  mapping_pembeli             501 non-null    object \n",
      " 14  mapping_kota                501 non-null    object \n",
      " 15  mapping_provinsi            501 non-null    object \n",
      " 16  channel                     501 non-null    object \n",
      " 17  brand                       501 non-null    object \n",
      " 18  store                       501 non-null    object \n",
      "dtypes: float64(2), int64(4), object(13)\n",
      "memory usage: 74.5+ KB\n"
     ]
    }
   ],
   "source": [
    "df_gt_transformed.info()"
   ]
  },
  {
   "cell_type": "markdown",
   "metadata": {},
   "source": [
    "- Combine Data"
   ]
  },
  {
   "cell_type": "code",
   "execution_count": 32,
   "metadata": {},
   "outputs": [],
   "source": [
    "combined_df = pd.concat([df_shopee_transformed, \n",
    "                         df_tokopedia_transformed,\n",
    "                         df_tiktok_transformed,\n",
    "                         df_website_transformed,\n",
    "                         df_zalora_transformed,\n",
    "                         df_retail_transformed,\n",
    "                         df_gt_transformed], ignore_index=True)"
   ]
  },
  {
   "cell_type": "markdown",
   "metadata": {},
   "source": [
    "- Merging Data"
   ]
  },
  {
   "cell_type": "code",
   "execution_count": 33,
   "metadata": {},
   "outputs": [],
   "source": [
    "reference_status = pd.read_excel('./DATA/Technical Test Skill.xlsx', sheet_name='database status pesanan')\n",
    "reference_product_kategori = pd.read_excel('./DATA/Technical Test Skill.xlsx', sheet_name='database Nama Product dan Kateg')\n",
    "reference_region = pd.read_excel('./DATA/Technical Test Skill.xlsx', sheet_name='database region')"
   ]
  },
  {
   "cell_type": "code",
   "execution_count": 34,
   "metadata": {},
   "outputs": [],
   "source": [
    "# Fungsi untuk menemukan nama produk paling mirip\n",
    "def find_closest_match_l(input_text, reference_list):\n",
    "    closest_match = ''\n",
    "    lowest_distance = float('inf')\n",
    "    \n",
    "    input_text = input_text.lower()\n",
    "    \n",
    "    for ref in reference_list:\n",
    "        distance = Levenshtein.distance(input_text, ref.lower())\n",
    "        \n",
    "        if distance < lowest_distance:\n",
    "            lowest_distance = distance\n",
    "            closest_match = ref\n",
    "    \n",
    "    return closest_match\n",
    "\n",
    "refrence_name = reference_product_kategori['product']\n",
    "combined_df['mapping_product'] = combined_df['nama_produk'].apply(lambda x: find_closest_match_l(x, refrence_name))"
   ]
  },
  {
   "cell_type": "code",
   "execution_count": 35,
   "metadata": {},
   "outputs": [
    {
     "data": {
      "text/html": [
       "<div>\n",
       "<style scoped>\n",
       "    .dataframe tbody tr th:only-of-type {\n",
       "        vertical-align: middle;\n",
       "    }\n",
       "\n",
       "    .dataframe tbody tr th {\n",
       "        vertical-align: top;\n",
       "    }\n",
       "\n",
       "    .dataframe thead th {\n",
       "        text-align: right;\n",
       "    }\n",
       "</style>\n",
       "<table border=\"1\" class=\"dataframe\">\n",
       "  <thead>\n",
       "    <tr style=\"text-align: right;\">\n",
       "      <th></th>\n",
       "      <th>no_pesanan</th>\n",
       "      <th>tanggal_pesanan_dibuat</th>\n",
       "      <th>status</th>\n",
       "      <th>mapping_status</th>\n",
       "      <th>sku_induk</th>\n",
       "      <th>nama_produk</th>\n",
       "      <th>mapping_product</th>\n",
       "      <th>nama_variasi</th>\n",
       "      <th>kategori</th>\n",
       "      <th>harga_awal</th>\n",
       "      <th>jumlah</th>\n",
       "      <th>total_harga_sebelum_diskon</th>\n",
       "      <th>total_harga_setelah_diskon</th>\n",
       "      <th>mapping_pembeli</th>\n",
       "      <th>mapping_kota</th>\n",
       "      <th>mapping_provinsi</th>\n",
       "      <th>channel</th>\n",
       "      <th>brand</th>\n",
       "      <th>store</th>\n",
       "    </tr>\n",
       "  </thead>\n",
       "  <tbody>\n",
       "    <tr>\n",
       "      <th>0</th>\n",
       "      <td>010T1VTVHY</td>\n",
       "      <td>2021-12-01</td>\n",
       "      <td>Selesai</td>\n",
       "      <td></td>\n",
       "      <td>4006</td>\n",
       "      <td>Avoskin Perfect Hydrating Treatment Essence 30...</td>\n",
       "      <td>Perfect Hydrating Treatment Essence (30 ml)</td>\n",
       "      <td>NaN</td>\n",
       "      <td></td>\n",
       "      <td>172852</td>\n",
       "      <td>1</td>\n",
       "      <td>172852</td>\n",
       "      <td>144852</td>\n",
       "      <td>MOGwOwsx</td>\n",
       "      <td>KAB. SLEMAN</td>\n",
       "      <td>DI YOGYAKARTA</td>\n",
       "      <td>B2C</td>\n",
       "      <td>Avoskin</td>\n",
       "      <td>Shopee</td>\n",
       "    </tr>\n",
       "    <tr>\n",
       "      <th>1</th>\n",
       "      <td>010EM4E0R6</td>\n",
       "      <td>2021-12-01</td>\n",
       "      <td>Selesai</td>\n",
       "      <td></td>\n",
       "      <td>1122</td>\n",
       "      <td>BLP X Avoskin Multipurpose Tinted Sunscreen 5 ...</td>\n",
       "      <td>BLP x Avoskin Multipurpose Tinted Sunscreen Li...</td>\n",
       "      <td>Light 5 gr</td>\n",
       "      <td></td>\n",
       "      <td>135624</td>\n",
       "      <td>1</td>\n",
       "      <td>135624</td>\n",
       "      <td>123624</td>\n",
       "      <td>uzlVoaIk</td>\n",
       "      <td>KOTA SEMARANG</td>\n",
       "      <td>JAWA TENGAH</td>\n",
       "      <td>B2C</td>\n",
       "      <td>Avoskin</td>\n",
       "      <td>Shopee</td>\n",
       "    </tr>\n",
       "    <tr>\n",
       "      <th>2</th>\n",
       "      <td>011730NWSA</td>\n",
       "      <td>2021-12-01</td>\n",
       "      <td>Selesai</td>\n",
       "      <td></td>\n",
       "      <td>0021</td>\n",
       "      <td>Avoskin Your Skin Bae Toner Salicylic Acid 1% ...</td>\n",
       "      <td>YSB Toner Salicylic Acid 1% + Zinc + Tea Tree ...</td>\n",
       "      <td>NaN</td>\n",
       "      <td></td>\n",
       "      <td>174730</td>\n",
       "      <td>31</td>\n",
       "      <td>5416630</td>\n",
       "      <td>5416630</td>\n",
       "      <td>JUlUCEOm</td>\n",
       "      <td>KOTA SURAKARTA (SOLO)</td>\n",
       "      <td>JAWA TENGAH</td>\n",
       "      <td>B2C</td>\n",
       "      <td>Avoskin</td>\n",
       "      <td>Shopee</td>\n",
       "    </tr>\n",
       "  </tbody>\n",
       "</table>\n",
       "</div>"
      ],
      "text/plain": [
       "   no_pesanan tanggal_pesanan_dibuat   status mapping_status sku_induk  \\\n",
       "0  010T1VTVHY             2021-12-01  Selesai                     4006   \n",
       "1  010EM4E0R6             2021-12-01  Selesai                     1122   \n",
       "2  011730NWSA             2021-12-01  Selesai                     0021   \n",
       "\n",
       "                                         nama_produk  \\\n",
       "0  Avoskin Perfect Hydrating Treatment Essence 30...   \n",
       "1  BLP X Avoskin Multipurpose Tinted Sunscreen 5 ...   \n",
       "2  Avoskin Your Skin Bae Toner Salicylic Acid 1% ...   \n",
       "\n",
       "                                     mapping_product nama_variasi kategori  \\\n",
       "0        Perfect Hydrating Treatment Essence (30 ml)          NaN            \n",
       "1  BLP x Avoskin Multipurpose Tinted Sunscreen Li...   Light 5 gr            \n",
       "2  YSB Toner Salicylic Acid 1% + Zinc + Tea Tree ...          NaN            \n",
       "\n",
       "   harga_awal  jumlah  total_harga_sebelum_diskon  total_harga_setelah_diskon  \\\n",
       "0      172852       1                      172852                      144852   \n",
       "1      135624       1                      135624                      123624   \n",
       "2      174730      31                     5416630                     5416630   \n",
       "\n",
       "  mapping_pembeli           mapping_kota mapping_provinsi channel    brand  \\\n",
       "0        MOGwOwsx            KAB. SLEMAN    DI YOGYAKARTA     B2C  Avoskin   \n",
       "1        uzlVoaIk          KOTA SEMARANG      JAWA TENGAH     B2C  Avoskin   \n",
       "2        JUlUCEOm  KOTA SURAKARTA (SOLO)      JAWA TENGAH     B2C  Avoskin   \n",
       "\n",
       "    store  \n",
       "0  Shopee  \n",
       "1  Shopee  \n",
       "2  Shopee  "
      ]
     },
     "execution_count": 35,
     "metadata": {},
     "output_type": "execute_result"
    }
   ],
   "source": [
    "combined_df.head(3)"
   ]
  },
  {
   "cell_type": "code",
   "execution_count": 36,
   "metadata": {},
   "outputs": [],
   "source": [
    "# Merge combined_df dengan reference_status berdasarkan kolom status\n",
    "merged_df = pd.merge(combined_df, reference_status, how='left', left_on='status', right_on='status')\n",
    "combined_df['mapping_status'] = merged_df['mapping_status_y']\n",
    "merged_df = pd.merge(combined_df, reference_product_kategori, how='left', left_on='mapping_product', right_on='product')\n",
    "combined_df['kategori'] = merged_df['kategori_y']\n",
    "merged_df = pd.merge(combined_df, reference_region, how='left', left_on='mapping_kota', right_on='kota')\n",
    "combined_df['mapping_kota'] = merged_df['mapping_kota_y']\n",
    "combined_df['mapping_provinsi'] = merged_df['mapping_provinsi_y']\n",
    "\n",
    "combined_df['nama_variasi'] = combined_df['nama_variasi'].apply(lambda x: '' if pd.isna(x) or x == '' else x)\n",
    "combined_df['mapping_kota'] = combined_df['mapping_kota'].apply(lambda x: 'Tidak Diketahui' if pd.isna(x) or x == '' else x)\n",
    "combined_df['mapping_provinsi'] = combined_df['mapping_provinsi'].apply(lambda x: 'Tidak Diketahui' if pd.isna(x) or x == '' else x)\n"
   ]
  },
  {
   "cell_type": "code",
   "execution_count": 40,
   "metadata": {},
   "outputs": [
    {
     "data": {
      "text/plain": [
       "array([datetime.date(2021, 12, 1), datetime.date(2021, 12, 2),\n",
       "       datetime.date(2021, 12, 3), datetime.date(2021, 1, 12),\n",
       "       datetime.date(2021, 12, 31), datetime.date(2021, 12, 30),\n",
       "       datetime.date(2021, 12, 29), datetime.date(2021, 12, 28),\n",
       "       datetime.date(2021, 12, 26), datetime.date(2021, 12, 25),\n",
       "       datetime.date(2021, 12, 24), datetime.date(2021, 12, 23),\n",
       "       datetime.date(2021, 12, 22), datetime.date(2021, 12, 21),\n",
       "       datetime.date(2021, 12, 17), datetime.date(2021, 12, 16),\n",
       "       datetime.date(2021, 12, 15), datetime.date(2021, 12, 14),\n",
       "       datetime.date(2021, 12, 13), datetime.date(2021, 12, 12),\n",
       "       datetime.date(2021, 12, 11), datetime.date(2021, 12, 10),\n",
       "       datetime.date(2021, 12, 9), datetime.date(2021, 12, 8),\n",
       "       datetime.date(2021, 12, 7), datetime.date(2021, 12, 6),\n",
       "       datetime.date(2021, 12, 5), datetime.date(2021, 12, 4),\n",
       "       datetime.date(2021, 12, 18), datetime.date(2021, 12, 19),\n",
       "       datetime.date(2021, 12, 20), datetime.date(2021, 12, 27)],\n",
       "      dtype=object)"
      ]
     },
     "execution_count": 40,
     "metadata": {},
     "output_type": "execute_result"
    }
   ],
   "source": [
    "combined_df['tanggal_pesanan_dibuat'].unique()"
   ]
  },
  {
   "cell_type": "code",
   "execution_count": 39,
   "metadata": {},
   "outputs": [
    {
     "data": {
      "text/plain": [
       "{'spreadsheetId': '1vlihBL_lznMnMsX-_kElV5X3tA4BZUH4C2p9XRYuynI',\n",
       " 'updatedRange': 'DATA!A1:S2830',\n",
       " 'updatedRows': 2830,\n",
       " 'updatedColumns': 19,\n",
       " 'updatedCells': 53770}"
      ]
     },
     "execution_count": 39,
     "metadata": {},
     "output_type": "execute_result"
    }
   ],
   "source": [
    "# Load credentials\n",
    "with open('google_service_account.json', 'rb') as file:\n",
    "    key = json.load(file)\n",
    "\n",
    "# Define the scope for Google Drive and Sheets API\n",
    "scope = ['https://www.googleapis.com/auth/drive', 'https://spreadsheets.google.com/feeds']\n",
    "creds = ServiceAccountCredentials.from_json_keyfile_dict(key, scope)\n",
    "client = gspread.authorize(creds)\n",
    "\n",
    "# Open the spreadsheet using its ID (which is extracted from the URL)\n",
    "spreadsheet_id = '1vlihBL_lznMnMsX-_kElV5X3tA4BZUH4C2p9XRYuynI'  # The ID part from the URL\n",
    "sheet = client.open_by_key(spreadsheet_id)\n",
    "\n",
    "# Access the worksheet by its name\n",
    "export = sheet.worksheet('DATA')\n",
    "\n",
    "# Update the worksheet with new data from 'combined_df'\n",
    "export.update([combined_df.columns.values.tolist()] + combined_df.astype(str).values.tolist())"
   ]
  }
 ],
 "metadata": {
  "kernelspec": {
   "display_name": "Python 3",
   "language": "python",
   "name": "python3"
  },
  "language_info": {
   "codemirror_mode": {
    "name": "ipython",
    "version": 3
   },
   "file_extension": ".py",
   "mimetype": "text/x-python",
   "name": "python",
   "nbconvert_exporter": "python",
   "pygments_lexer": "ipython3",
   "version": "3.11.3"
  }
 },
 "nbformat": 4,
 "nbformat_minor": 2
}
